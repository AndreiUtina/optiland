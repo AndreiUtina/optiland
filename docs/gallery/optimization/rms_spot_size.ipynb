{
 "cells": [
  {
   "cell_type": "markdown",
   "metadata": {},
   "source": [
    "# RMS Spot Size Optimization"
   ]
  },
  {
   "cell_type": "code",
   "execution_count": 1,
   "metadata": {},
   "outputs": [],
   "source": [
    "import numpy as np\n",
    "from optiland import optic, optimization"
   ]
  },
  {
   "cell_type": "markdown",
   "metadata": {},
   "source": [
    "Define a starting lens:"
   ]
  },
  {
   "cell_type": "code",
   "execution_count": 2,
   "metadata": {},
   "outputs": [
    {
     "data": {
      "image/png": "[encoded data removed]",
      "text/plain": [
       "<Figure size 1000x400 with 1 Axes>"
      ]
     },
     "metadata": {},
     "output_type": "display_data"
    }
   ],
   "source": [
    "lens = optic.Optic()\n",
    "\n",
    "# add surfaces\n",
    "lens.add_surface(index=0, thickness=np.inf)\n",
    "lens.add_surface(index=1, thickness=7, radius=1000, material='N-SF11', is_stop=True)\n",
    "lens.add_surface(index=2, thickness=30, radius=-1000)\n",
    "lens.add_surface(index=3)\n",
    "\n",
    "# set aperture\n",
    "lens.set_aperture(aperture_type='EPD', value=15)\n",
    "\n",
    "# add field\n",
    "lens.set_field_type(field_type='angle')\n",
    "lens.add_field(y=0)\n",
    "\n",
    "# add wavelength\n",
    "lens.add_wavelength(value=0.55, is_primary=True)\n",
    "\n",
    "# draw lens\n",
    "lens.draw(num_rays=5)"
   ]
  },
  {
   "cell_type": "markdown",
   "metadata": {},
   "source": [
    "Define optimization problem:"
   ]
  },
  {
   "cell_type": "code",
   "execution_count": 3,
   "metadata": {},
   "outputs": [],
   "source": [
    "problem = optimization.OptimizationProblem()"
   ]
  },
  {
   "cell_type": "markdown",
   "metadata": {},
   "source": [
    "Add operands (targets for optimization):"
   ]
  },
  {
   "cell_type": "code",
   "execution_count": 4,
   "metadata": {},
   "outputs": [],
   "source": [
    "\"\"\"\n",
    "Define RMS spot size properties for the optimization:\n",
    "    1. Surface number = -1, implying last surface (image surface)\n",
    "    2. Normalized field coordinates (Hx, Hy) = (0, 0)\n",
    "    3. Number of rays = 5, corresponds to number of rings in hexapolar distribution (see distribution documentation)\n",
    "    4. Wavelength = 0.55 µm\n",
    "    5. Pupil distribution = hexapolar\n",
    "\"\"\"\n",
    "\n",
    "input_data = {'optic': lens, 'surface_number': -1, 'Hx': 0, 'Hy': 0,\n",
    "              'num_rays': 5, 'wavelength': 0.55, 'distribution': 'hexapolar'}\n",
    "\n",
    "# add RMS spot size operand\n",
    "problem.add_operand(operand_type='rms_spot_size', target=0, weight=1, input_data=input_data)"
   ]
  },
  {
   "cell_type": "markdown",
   "metadata": {},
   "source": [
    "Define variables - let radius of curvature vary for both surfaces, at surface index 1 and 2:"
   ]
  },
  {
   "cell_type": "code",
   "execution_count": 5,
   "metadata": {},
   "outputs": [],
   "source": [
    "problem.add_variable(lens, 'radius', surface_number=1)\n",
    "problem.add_variable(lens, 'radius', surface_number=2)"
   ]
  },
  {
   "cell_type": "markdown",
   "metadata": {},
   "source": [
    "Check initial merit function value and system properties:"
   ]
  },
  {
   "cell_type": "code",
   "execution_count": 6,
   "metadata": {},
   "outputs": [
    {
     "name": "stdout",
     "output_type": "stream",
     "text": [
      "+----+------------------------+-------------------+\n",
      "|    |   Merit Function Value |   Improvement (%) |\n",
      "|----+------------------------+-------------------|\n",
      "|  0 |                30.0924 |                 0 |\n",
      "+----+------------------------+-------------------+\n",
      "+----+----------------+----------+----------+---------+---------+--------------------+\n",
      "|    | Operand Type   |   Target |   Weight |   Value |   Delta |   Contribution (%) |\n",
      "|----+----------------+----------+----------+---------+---------+--------------------|\n",
      "|  0 | rms spot size  |        0 |        1 | 5.48566 | 5.48566 |                100 |\n",
      "+----+----------------+----------+----------+---------+---------+--------------------+\n",
      "+----+-----------------+-----------+---------+--------------+--------------+\n",
      "|    | Variable Type   |   Surface |   Value | Min. Bound   | Max. Bound   |\n",
      "|----+-----------------+-----------+---------+--------------+--------------|\n",
      "|  0 | radius          |         1 |    1000 |              |              |\n",
      "|  1 | radius          |         2 |   -1000 |              |              |\n",
      "+----+-----------------+-----------+---------+--------------+--------------+\n"
     ]
    }
   ],
   "source": [
    "problem.info()"
   ]
  },
  {
   "cell_type": "markdown",
   "metadata": {},
   "source": [
    "Define optimizer:"
   ]
  },
  {
   "cell_type": "code",
   "execution_count": 7,
   "metadata": {},
   "outputs": [],
   "source": [
    "optimizer = optimization.OptimizerGeneric(problem)"
   ]
  },
  {
   "cell_type": "markdown",
   "metadata": {},
   "source": [
    "Run optimization:"
   ]
  },
  {
   "cell_type": "code",
   "execution_count": 8,
   "metadata": {},
   "outputs": [
    {
     "data": {
      "text/plain": [
       "  message: CONVERGENCE: REL_REDUCTION_OF_F_<=_FACTR*EPSMCH\n",
       "  success: True\n",
       "   status: 0\n",
       "      fun: 0.0023956392000377465\n",
       "        x: [-6.843e-01 -2.702e+00]\n",
       "      nit: 7\n",
       "      jac: [-1.917e-03  5.832e-04]\n",
       "     nfev: 93\n",
       "     njev: 31\n",
       " hess_inv: <2x2 LbfgsInvHessProduct with dtype=float64>"
      ]
     },
     "execution_count": 8,
     "metadata": {},
     "output_type": "execute_result"
    }
   ],
   "source": [
    "optimizer.optimize()"
   ]
  },
  {
   "cell_type": "markdown",
   "metadata": {},
   "source": [
    "Print merit function value and system properties after optimization:"
   ]
  },
  {
   "cell_type": "code",
   "execution_count": 9,
   "metadata": {},
   "outputs": [
    {
     "name": "stdout",
     "output_type": "stream",
     "text": [
      "+----+------------------------+-------------------+\n",
      "|    |   Merit Function Value |   Improvement (%) |\n",
      "|----+------------------------+-------------------|\n",
      "|  0 |             0.00239564 |            99.992 |\n",
      "+----+------------------------+-------------------+\n",
      "+----+----------------+----------+----------+-----------+-----------+--------------------+\n",
      "|    | Operand Type   |   Target |   Weight |     Value |     Delta |   Contribution (%) |\n",
      "|----+----------------+----------+----------+-----------+-----------+--------------------|\n",
      "|  0 | rms spot size  |        0 |        1 | 0.0489453 | 0.0489453 |                100 |\n",
      "+----+----------------+----------+----------+-----------+-----------+--------------------+\n",
      "+----+-----------------+-----------+-----------+--------------+--------------+\n",
      "|    | Variable Type   |   Surface |     Value | Min. Bound   | Max. Bound   |\n",
      "|----+-----------------+-----------+-----------+--------------+--------------|\n",
      "|  0 | radius          |         1 |   31.5704 |              |              |\n",
      "|  1 | radius          |         2 | -170.224  |              |              |\n",
      "+----+-----------------+-----------+-----------+--------------+--------------+\n"
     ]
    }
   ],
   "source": [
    "problem.info()"
   ]
  },
  {
   "cell_type": "markdown",
   "metadata": {},
   "source": [
    "Draw final lens:"
   ]
  },
  {
   "cell_type": "code",
   "execution_count": 10,
   "metadata": {},
   "outputs": [
    {
     "data": {
      "image/png": "[encoded data removed]",
      "text/plain": [
       "<Figure size 1000x400 with 1 Axes>"
      ]
     },
     "metadata": {},
     "output_type": "display_data"
    }
   ],
   "source": [
    "lens.draw(num_rays=5)"
   ]
  }
 ],
 "metadata": {
  "kernelspec": {
   "display_name": ".venv",
   "language": "python",
   "name": "python3"
  },
  "language_info": {
   "codemirror_mode": {
    "name": "ipython",
    "version": 3
   },
   "file_extension": ".py",
   "mimetype": "text/x-python",
   "name": "python",
   "nbconvert_exporter": "python",
   "pygments_lexer": "ipython3",
   "version": "3.11.1"
  }
 },
 "nbformat": 4,
 "nbformat_minor": 2
}
