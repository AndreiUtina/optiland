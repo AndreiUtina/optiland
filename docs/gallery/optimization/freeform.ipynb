{
 "cells": [
  {
   "cell_type": "markdown",
   "metadata": {},
   "source": [
    "# Freeform Optimization"
   ]
  },
  {
   "cell_type": "code",
   "execution_count": 1,
   "metadata": {},
   "outputs": [],
   "source": [
    "import numpy as np\n",
    "from optiland import optic, optimization, analysis"
   ]
  },
  {
   "cell_type": "markdown",
   "metadata": {},
   "source": [
    "Define a starting lens:"
   ]
  },
  {
   "cell_type": "markdown",
   "metadata": {},
   "source": [
    "We define a singlet lens, which has a freeform as its first surface.\n",
    "\n",
    "The freeform surface is defined as:\n",
    "\n",
    "$z(x, y) = \\frac{r^2}{R \\cdot (1 + \\sqrt{(1 - (1 + k) \\cdot r^2 / R^2)})} + \\sum\\limits_{i}\\sum\\limits_{j}{C_{i, j} \\cdot x^i \\cdot y^j}$\n",
    "\n",
    "where\n",
    "- $x$ and $y$ are the local surface coordinates\n",
    "- $r^2 = x^2 + y^2$\n",
    "- $R$ is the radius of curvature\n",
    "- $k$ is the conic constant\n",
    "- $C_{i, j}$ is the polynomial coefficient for indices $i, j$"
   ]
  },
  {
   "cell_type": "code",
   "execution_count": 2,
   "metadata": {},
   "outputs": [
    {
     "data": {
      "image/png": "[encoded data removed]",
      "text/plain": [
       "<Figure size 1000x400 with 1 Axes>"
      ]
     },
     "metadata": {},
     "output_type": "display_data"
    }
   ],
   "source": [
    "lens = optic.Optic()\n",
    "\n",
    "# add surfaces\n",
    "lens.add_surface(index=0, thickness=np.inf)\n",
    "lens.add_surface(index=1, radius=100, thickness=5, surface_type='polynomial',  # <-- surface_type='polynomial'\n",
    "                 is_stop=True, material='SF11', coefficients=[])\n",
    "lens.add_surface(index=2, thickness=30, radius=-1000)\n",
    "lens.add_surface(index=3)\n",
    "\n",
    "# set aperture\n",
    "lens.set_aperture(aperture_type='EPD', value=15)\n",
    "\n",
    "# add field\n",
    "lens.set_field_type(field_type='angle')\n",
    "lens.add_field(y=0)\n",
    "\n",
    "# add wavelength\n",
    "lens.add_wavelength(value=0.55, is_primary=True)\n",
    "\n",
    "# draw lens\n",
    "lens.draw(num_rays=5)"
   ]
  },
  {
   "cell_type": "markdown",
   "metadata": {},
   "source": [
    "Define optimization problem:"
   ]
  },
  {
   "cell_type": "code",
   "execution_count": 3,
   "metadata": {},
   "outputs": [],
   "source": [
    "problem = optimization.OptimizationProblem()"
   ]
  },
  {
   "cell_type": "markdown",
   "metadata": {},
   "source": [
    "Add operands (targets for optimization). We will minimize the RMS spot size on-axis and force the on-axis field chief ray to intersect the image plane at y = 3 mm."
   ]
  },
  {
   "cell_type": "code",
   "execution_count": 4,
   "metadata": {},
   "outputs": [],
   "source": [
    "# RMS spot size operand\n",
    "input_data = {'optic': lens, 'surface_number': -1, 'Hx': 0, 'Hy': 0, 'wavelength': 0.55, 'num_rays': 5}\n",
    "problem.add_operand(operand_type='rms_spot_size', target=0, weight=1, input_data=input_data)\n",
    "\n",
    "# Real y-intercept operand\n",
    "input_data = {'optic': lens, 'surface_number': -1, 'Hx': 0, 'Hy': 0, 'Px': 0, 'Py': 0, 'wavelength': 0.55}\n",
    "problem.add_operand(operand_type='real_y_intercept', target=3, weight=1, input_data=input_data)  # <-- target=3"
   ]
  },
  {
   "cell_type": "markdown",
   "metadata": {},
   "source": [
    "Define variables - let the first 9 coefficients of the polynomial coefficients vary."
   ]
  },
  {
   "cell_type": "code",
   "execution_count": 5,
   "metadata": {},
   "outputs": [],
   "source": [
    "for i in range(3):\n",
    "    for j in range(3):\n",
    "        problem.add_variable(lens, 'polynomial_coeff', surface_number=1, coeff_index=(i, j))"
   ]
  },
  {
   "cell_type": "markdown",
   "metadata": {},
   "source": [
    "Check initial merit function value and system properties:"
   ]
  },
  {
   "cell_type": "code",
   "execution_count": 6,
   "metadata": {},
   "outputs": [
    {
     "name": "stdout",
     "output_type": "stream",
     "text": [
      "+----+------------------------+-------------------+\n",
      "|    |   Merit Function Value |   Improvement (%) |\n",
      "|----+------------------------+-------------------|\n",
      "|  0 |                26.1803 |                 0 |\n",
      "+----+------------------------+-------------------+\n",
      "+----+------------------+----------+----------+---------+----------+--------------------+\n",
      "|    | Operand Type     |   Target |   Weight |   Value |    Delta |   Contribution (%) |\n",
      "|----+------------------+----------+----------+---------+----------+--------------------|\n",
      "|  0 | rms spot size    |        0 |        1 | 4.14491 |  4.14491 |             65.623 |\n",
      "|  1 | real y intercept |        3 |        1 | 0       | -3       |             34.377 |\n",
      "+----+------------------+----------+----------+---------+----------+--------------------+\n",
      "+----+------------------+-----------+---------+--------------+--------------+\n",
      "|    | Variable Type    |   Surface |   Value | Min. Bound   | Max. Bound   |\n",
      "|----+------------------+-----------+---------+--------------+--------------|\n",
      "|  0 | polynomial_coeff |         1 |       0 |              |              |\n",
      "|  1 | polynomial_coeff |         1 |       0 |              |              |\n",
      "|  2 | polynomial_coeff |         1 |       0 |              |              |\n",
      "|  3 | polynomial_coeff |         1 |       0 |              |              |\n",
      "|  4 | polynomial_coeff |         1 |       0 |              |              |\n",
      "|  5 | polynomial_coeff |         1 |       0 |              |              |\n",
      "|  6 | polynomial_coeff |         1 |       0 |              |              |\n",
      "|  7 | polynomial_coeff |         1 |       0 |              |              |\n",
      "|  8 | polynomial_coeff |         1 |       0 |              |              |\n",
      "+----+------------------+-----------+---------+--------------+--------------+\n"
     ]
    }
   ],
   "source": [
    "problem.info()"
   ]
  },
  {
   "cell_type": "markdown",
   "metadata": {},
   "source": [
    "Define optimizer:"
   ]
  },
  {
   "cell_type": "code",
   "execution_count": 7,
   "metadata": {},
   "outputs": [],
   "source": [
    "optimizer = optimization.OptimizerGeneric(problem)"
   ]
  },
  {
   "cell_type": "markdown",
   "metadata": {},
   "source": [
    "Run optimization:"
   ]
  },
  {
   "cell_type": "code",
   "execution_count": 8,
   "metadata": {},
   "outputs": [
    {
     "data": {
      "text/plain": [
       "  message: CONVERGENCE: REL_REDUCTION_OF_F_<=_FACTR*EPSMCH\n",
       "  success: True\n",
       "   status: 0\n",
       "      fun: 0.0007136726720011206\n",
       "        x: [-4.565e-06 -1.158e-01  1.400e-02 -7.709e-09  1.591e-07\n",
       "            -7.314e-09  1.394e-02 -1.418e-05  9.539e-07]\n",
       "      nit: 16\n",
       "      jac: [-5.123e-06  1.932e-04 -6.649e-04  9.056e-06  7.249e-03\n",
       "            -2.941e-03 -1.224e-04  1.634e-03  1.562e-04]\n",
       "     nfev: 370\n",
       "     njev: 37\n",
       " hess_inv: <9x9 LbfgsInvHessProduct with dtype=float64>"
      ]
     },
     "execution_count": 8,
     "metadata": {},
     "output_type": "execute_result"
    }
   ],
   "source": [
    "optimizer.optimize(tol=1e-9)"
   ]
  },
  {
   "cell_type": "markdown",
   "metadata": {},
   "source": [
    "Print merit function value and system properties after optimization:"
   ]
  },
  {
   "cell_type": "code",
   "execution_count": 9,
   "metadata": {},
   "outputs": [
    {
     "name": "stdout",
     "output_type": "stream",
     "text": [
      "+----+------------------------+-------------------+\n",
      "|    |   Merit Function Value |   Improvement (%) |\n",
      "|----+------------------------+-------------------|\n",
      "|  0 |            0.000713673 |           99.9973 |\n",
      "+----+------------------------+-------------------+\n",
      "+----+------------------+----------+----------+----------+--------------+--------------------+\n",
      "|    | Operand Type     |   Target |   Weight |    Value |        Delta |   Contribution (%) |\n",
      "|----+------------------+----------+----------+----------+--------------+--------------------|\n",
      "|  0 | rms spot size    |        0 |        1 | 0.026714 |  0.026714    |        99.9949     |\n",
      "|  1 | real y intercept |        3 |        1 | 2.99981  | -0.000190397 |         0.00507948 |\n",
      "+----+------------------+----------+----------+----------+--------------+--------------------+\n",
      "+----+------------------+-----------+--------------+--------------+--------------+\n",
      "|    | Variable Type    |   Surface |        Value | Min. Bound   | Max. Bound   |\n",
      "|----+------------------+-----------+--------------+--------------+--------------|\n",
      "|  0 | polynomial_coeff |         1 | -4.56505e-06 |              |              |\n",
      "|  1 | polynomial_coeff |         1 | -0.115752    |              |              |\n",
      "|  2 | polynomial_coeff |         1 |  0.0140048   |              |              |\n",
      "|  3 | polynomial_coeff |         1 | -7.70891e-09 |              |              |\n",
      "|  4 | polynomial_coeff |         1 |  1.5914e-07  |              |              |\n",
      "|  5 | polynomial_coeff |         1 | -7.31429e-09 |              |              |\n",
      "|  6 | polynomial_coeff |         1 |  0.0139404   |              |              |\n",
      "|  7 | polynomial_coeff |         1 | -1.41761e-05 |              |              |\n",
      "|  8 | polynomial_coeff |         1 |  9.63853e-07 |              |              |\n",
      "+----+------------------+-----------+--------------+--------------+--------------+\n"
     ]
    }
   ],
   "source": [
    "problem.info()"
   ]
  },
  {
   "cell_type": "markdown",
   "metadata": {},
   "source": [
    "Draw final lens:"
   ]
  },
  {
   "cell_type": "code",
   "execution_count": 10,
   "metadata": {},
   "outputs": [
    {
     "data": {
      "image/png": "[encoded data removed]",
      "text/plain": [
       "<Figure size 1000x400 with 1 Axes>"
      ]
     },
     "metadata": {},
     "output_type": "display_data"
    }
   ],
   "source": [
    "lens.draw(num_rays=5)"
   ]
  }
 ],
 "metadata": {
  "kernelspec": {
   "display_name": ".venv",
   "language": "python",
   "name": "python3"
  },
  "language_info": {
   "codemirror_mode": {
    "name": "ipython",
    "version": 3
   },
   "file_extension": ".py",
   "mimetype": "text/x-python",
   "name": "python",
   "nbconvert_exporter": "python",
   "pygments_lexer": "ipython3",
   "version": "3.11.1"
  }
 },
 "nbformat": 4,
 "nbformat_minor": 2
}
