{
 "cells": [
  {
   "cell_type": "markdown",
   "metadata": {},
   "source": [
    "# Wavefront Error Optimization"
   ]
  },
  {
   "cell_type": "code",
   "execution_count": 1,
   "metadata": {},
   "outputs": [],
   "source": [
    "import numpy as np\n",
    "from optiland import optic, optimization"
   ]
  },
  {
   "cell_type": "markdown",
   "metadata": {},
   "source": [
    "Define a starting lens:"
   ]
  },
  {
   "cell_type": "code",
   "execution_count": 2,
   "metadata": {},
   "outputs": [
    {
     "data": {
      "image/png": "[encoded data removed]",
      "text/plain": [
       "<Figure size 1000x400 with 1 Axes>"
      ]
     },
     "metadata": {},
     "output_type": "display_data"
    }
   ],
   "source": [
    "lens = optic.Optic()\n",
    "\n",
    "# add surfaces\n",
    "lens.add_surface(index=0, radius=np.inf, thickness=np.inf)\n",
    "lens.add_surface(index=1, radius=50, thickness=3, material='SK16')\n",
    "lens.add_surface(index=2, radius=-100, thickness=5)\n",
    "lens.add_surface(index=3, radius=-100, thickness=3, material=('F2', 'schott'))\n",
    "lens.add_surface(index=4, radius=50, thickness=5, is_stop=True)\n",
    "lens.add_surface(index=5, radius=50, thickness=3, material='SK16')\n",
    "lens.add_surface(index=6, radius=-20, thickness=40)\n",
    "lens.add_surface(index=7)\n",
    "\n",
    "# set aperture\n",
    "lens.set_aperture(aperture_type='EPD', value=10)\n",
    "\n",
    "# set fields\n",
    "lens.set_field_type(field_type='angle')\n",
    "lens.add_field(y=0)\n",
    "\n",
    "# set wavelengths\n",
    "lens.add_wavelength(value=0.48)\n",
    "lens.add_wavelength(value=0.55, is_primary=True)\n",
    "lens.add_wavelength(value=0.65)\n",
    "\n",
    "lens.draw()"
   ]
  },
  {
   "cell_type": "markdown",
   "metadata": {},
   "source": [
    "Define optimization problem:"
   ]
  },
  {
   "cell_type": "code",
   "execution_count": 3,
   "metadata": {},
   "outputs": [],
   "source": [
    "problem = optimization.OptimizationProblem()"
   ]
  },
  {
   "cell_type": "markdown",
   "metadata": {},
   "source": [
    "Add operands (targets for optimization):"
   ]
  },
  {
   "cell_type": "code",
   "execution_count": 4,
   "metadata": {},
   "outputs": [],
   "source": [
    "\"\"\"\n",
    "Add a wavefront error operand for all wavelengths.\n",
    "\n",
    "Use Gaussian quadrature distribution for the rays (see distribution documentation for more information).\n",
    "\"\"\"\n",
    "\n",
    "for wave in lens.wavelengths.get_wavelengths():\n",
    "    input_data = {'optic': lens, 'Hx':0, 'Hy': 0, 'num_rays': 3, 'wavelength': wave, 'distribution': 'gaussian_quad'}\n",
    "    problem.add_operand(operand_type='OPD_difference', target=0, weight=1, input_data=input_data)"
   ]
  },
  {
   "cell_type": "markdown",
   "metadata": {},
   "source": [
    "Define variables - let all radii vary (surface indices 1 through 6)"
   ]
  },
  {
   "cell_type": "code",
   "execution_count": 5,
   "metadata": {},
   "outputs": [],
   "source": [
    "for surface_number in range(1, 7):\n",
    "    problem.add_variable(lens, 'radius', surface_number=surface_number)"
   ]
  },
  {
   "cell_type": "markdown",
   "metadata": {},
   "source": [
    "Check initial merit function value and system properties:"
   ]
  },
  {
   "cell_type": "code",
   "execution_count": 6,
   "metadata": {},
   "outputs": [
    {
     "name": "stdout",
     "output_type": "stream",
     "text": [
      "+----+------------------------+-------------------+\n",
      "|    |   Merit Function Value |   Improvement (%) |\n",
      "|----+------------------------+-------------------|\n",
      "|  0 |                  24631 |                 0 |\n",
      "+----+------------------------+-------------------+\n",
      "+----+----------------+----------+----------+----------+----------+--------------------+\n",
      "|    | Operand Type   |   Target |   Weight |    Value |    Delta |   Contribution (%) |\n",
      "|----+----------------+----------+----------+----------+----------+--------------------|\n",
      "|  0 | OPD difference |        0 |        1 | 104.534  | 104.534  |            44.3647 |\n",
      "|  1 | OPD difference |        0 |        1 |  89.8916 |  89.8916 |            32.8063 |\n",
      "|  2 | OPD difference |        0 |        1 |  74.9868 |  74.9868 |            22.8291 |\n",
      "+----+----------------+----------+----------+----------+----------+--------------------+\n",
      "+----+-----------------+-----------+---------+--------------+--------------+\n",
      "|    | Variable Type   |   Surface |   Value | Min. Bound   | Max. Bound   |\n",
      "|----+-----------------+-----------+---------+--------------+--------------|\n",
      "|  0 | radius          |         1 |      50 |              |              |\n",
      "|  1 | radius          |         2 |    -100 |              |              |\n",
      "|  2 | radius          |         3 |    -100 |              |              |\n",
      "|  3 | radius          |         4 |      50 |              |              |\n",
      "|  4 | radius          |         5 |      50 |              |              |\n",
      "|  5 | radius          |         6 |     -20 |              |              |\n",
      "+----+-----------------+-----------+---------+--------------+--------------+\n"
     ]
    }
   ],
   "source": [
    "problem.info()"
   ]
  },
  {
   "cell_type": "markdown",
   "metadata": {},
   "source": [
    "Define optimizer:"
   ]
  },
  {
   "cell_type": "code",
   "execution_count": 7,
   "metadata": {},
   "outputs": [],
   "source": [
    "optimizer = optimization.OptimizerGeneric(problem)"
   ]
  },
  {
   "cell_type": "markdown",
   "metadata": {},
   "source": [
    "Run optimization:"
   ]
  },
  {
   "cell_type": "code",
   "execution_count": 8,
   "metadata": {},
   "outputs": [
    {
     "data": {
      "text/plain": [
       "  message: CONVERGENCE: REL_REDUCTION_OF_F_<=_FACTR*EPSMCH\n",
       "  success: True\n",
       "   status: 0\n",
       "      fun: 0.4929267697216927\n",
       "        x: [-5.850e-01 -1.977e+00 -2.011e+00 -4.529e-01 -4.369e-01\n",
       "            -2.186e+00]\n",
       "      nit: 9\n",
       "      jac: [ 1.326e-01  9.691e-02 -2.440e-01  4.657e-01  9.640e-02\n",
       "             4.481e-02]\n",
       "     nfev: 70\n",
       "     njev: 10\n",
       " hess_inv: <6x6 LbfgsInvHessProduct with dtype=float64>"
      ]
     },
     "execution_count": 8,
     "metadata": {},
     "output_type": "execute_result"
    }
   ],
   "source": [
    "optimizer.optimize()"
   ]
  },
  {
   "cell_type": "markdown",
   "metadata": {},
   "source": [
    "Print merit function value and system properties after optimization:"
   ]
  },
  {
   "cell_type": "code",
   "execution_count": 9,
   "metadata": {},
   "outputs": [
    {
     "name": "stdout",
     "output_type": "stream",
     "text": [
      "+----+------------------------+-------------------+\n",
      "|    |   Merit Function Value |   Improvement (%) |\n",
      "|----+------------------------+-------------------|\n",
      "|  0 |               0.492927 |            99.998 |\n",
      "+----+------------------------+-------------------+\n",
      "+----+----------------+----------+----------+----------+----------+--------------------+\n",
      "|    | Operand Type   |   Target |   Weight |    Value |    Delta |   Contribution (%) |\n",
      "|----+----------------+----------+----------+----------+----------+--------------------|\n",
      "|  0 | OPD difference |        0 |        1 | 0.485152 | 0.485152 |           47.7499  |\n",
      "|  1 | OPD difference |        0 |        1 | 0.155018 | 0.155018 |            4.87508 |\n",
      "|  2 | OPD difference |        0 |        1 | 0.483243 | 0.483243 |           47.375   |\n",
      "+----+----------------+----------+----------+----------+----------+--------------------+\n",
      "+----+-----------------+-----------+-----------+--------------+--------------+\n",
      "|    | Variable Type   |   Surface |     Value | Min. Bound   | Max. Bound   |\n",
      "|----+-----------------+-----------+-----------+--------------+--------------|\n",
      "|  0 | radius          |         1 |   41.5009 |              |              |\n",
      "|  1 | radius          |         2 |  -97.652  |              |              |\n",
      "|  2 | radius          |         3 | -101.134  |              |              |\n",
      "|  3 | radius          |         4 |   54.7111 |              |              |\n",
      "|  4 | radius          |         5 |   56.3141 |              |              |\n",
      "|  5 | radius          |         6 | -118.584  |              |              |\n",
      "+----+-----------------+-----------+-----------+--------------+--------------+\n"
     ]
    }
   ],
   "source": [
    "problem.info()"
   ]
  },
  {
   "cell_type": "markdown",
   "metadata": {},
   "source": [
    "Draw final lens:"
   ]
  },
  {
   "cell_type": "code",
   "execution_count": 10,
   "metadata": {},
   "outputs": [
    {
     "data": {
      "image/png": "[encoded data removed]",
      "text/plain": [
       "<Figure size 1000x400 with 1 Axes>"
      ]
     },
     "metadata": {},
     "output_type": "display_data"
    }
   ],
   "source": [
    "lens.draw(num_rays=5)"
   ]
  }
 ],
 "metadata": {
  "kernelspec": {
   "display_name": ".venv",
   "language": "python",
   "name": "python3"
  },
  "language_info": {
   "codemirror_mode": {
    "name": "ipython",
    "version": 3
   },
   "file_extension": ".py",
   "mimetype": "text/x-python",
   "name": "python",
   "nbconvert_exporter": "python",
   "pygments_lexer": "ipython3",
   "version": "3.11.1"
  }
 },
 "nbformat": 4,
 "nbformat_minor": 2
}
