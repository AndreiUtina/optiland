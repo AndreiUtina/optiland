{
 "cells": [
  {
   "cell_type": "markdown",
   "metadata": {},
   "source": [
    "# Chromatic Aberration Optimization"
   ]
  },
  {
   "cell_type": "code",
   "execution_count": 1,
   "metadata": {},
   "outputs": [],
   "source": [
    "import numpy as np\n",
    "from optiland import optic, optimization"
   ]
  },
  {
   "cell_type": "markdown",
   "metadata": {},
   "source": [
    "Define a starting lens:"
   ]
  },
  {
   "cell_type": "code",
   "execution_count": null,
   "metadata": {},
   "outputs": [],
   "source": [
    "lens = optic.Optic()\n",
    "\n",
    "# add surfaces\n",
    "lens.add_surface(index=0, radius=np.inf, thickness=np.inf)\n",
    "lens.add_surface(index=1, radius=12.38401, thickness=0.4340, is_stop=True, material='N-SF11')\n",
    "lens.add_surface(index=2, radius=-7.94140, thickness=0.3210, material='N-SF2')\n",
    "lens.add_surface(index=3, radius=-48.44396, thickness=19.6059)\n",
    "lens.add_surface(index=4)\n",
    "\n",
    "# add aperture\n",
    "lens.set_aperture(aperture_type='imageFNO', value=6)\n",
    "\n",
    "# add field\n",
    "lens.set_field_type(field_type='angle')\n",
    "lens.add_field(y=0)\n",
    "\n",
    "# add wavelength\n",
    "lens.add_wavelength(value=0.48613270)\n",
    "lens.add_wavelength(value=0.58756180, is_primary=True)\n",
    "lens.add_wavelength(value=0.65627250)\n",
    "\n",
    "\n",
    "# draw lens\n",
    "lens.draw(num_rays=5)"
   ]
  },
  {
   "cell_type": "markdown",
   "metadata": {},
   "source": [
    "Define optimization problem:"
   ]
  },
  {
   "cell_type": "code",
   "execution_count": 3,
   "metadata": {},
   "outputs": [],
   "source": [
    "problem = optimization.OptimizationProblem()"
   ]
  },
  {
   "cell_type": "markdown",
   "metadata": {},
   "source": [
    "Add operands (targets for optimization):"
   ]
  },
  {
   "cell_type": "code",
   "execution_count": 4,
   "metadata": {},
   "outputs": [],
   "source": [
    "\"\"\"\n",
    "Add target for minimal chromatic aberration\n",
    "\"\"\"\n",
    "\n",
    "input_data = {'optic': lens}\n",
    "\n",
    "# add chromatic aberration operand - sum of longitudinal chromatic aberration\n",
    "problem.add_operand(operand_type='LchC_sum', target=0, weight=1, input_data=input_data)"
   ]
  },
  {
   "cell_type": "code",
   "execution_count": 5,
   "metadata": {},
   "outputs": [],
   "source": [
    "\"\"\"\n",
    "Add target for minimal rms spot size.\n",
    "\"\"\"\n",
    "\n",
    "input_data = {'optic': lens, 'surface_number': -1, 'Hx': 0, 'Hy': 0,\n",
    "              'num_rays': 5, 'wavelength': 0.55, 'distribution': 'hexapolar'}\n",
    "\n",
    "# add RMS spot size operand\n",
    "problem.add_operand(operand_type='rms_spot_size', target=0, weight=1, input_data=input_data)"
   ]
  },
  {
   "cell_type": "markdown",
   "metadata": {},
   "source": [
    "Define variables - let the index of refraction vary for both materials in the doublet:"
   ]
  },
  {
   "cell_type": "code",
   "execution_count": 6,
   "metadata": {},
   "outputs": [],
   "source": [
    "problem.add_variable(lens, 'index', surface_number=1, wavelength=0.55)\n",
    "problem.add_variable(lens, 'index', surface_number=2, wavelength=0.55)"
   ]
  },
  {
   "cell_type": "markdown",
   "metadata": {},
   "source": [
    "Check initial merit function value and system properties:"
   ]
  },
  {
   "cell_type": "code",
   "execution_count": null,
   "metadata": {},
   "outputs": [],
   "source": [
    "problem.info()"
   ]
  },
  {
   "cell_type": "markdown",
   "metadata": {},
   "source": [
    "Define optimizer:"
   ]
  },
  {
   "cell_type": "code",
   "execution_count": 8,
   "metadata": {},
   "outputs": [],
   "source": [
    "optimizer = optimization.OptimizerGeneric(problem)"
   ]
  },
  {
   "cell_type": "markdown",
   "metadata": {},
   "source": [
    "Run optimization:"
   ]
  },
  {
   "cell_type": "code",
   "execution_count": null,
   "metadata": {},
   "outputs": [],
   "source": [
    "optimizer.optimize()"
   ]
  },
  {
   "cell_type": "markdown",
   "metadata": {},
   "source": [
    "Print merit function value and system properties after optimization:"
   ]
  },
  {
   "cell_type": "code",
   "execution_count": null,
   "metadata": {},
   "outputs": [],
   "source": [
    "problem.info()"
   ]
  },
  {
   "cell_type": "markdown",
   "metadata": {},
   "source": [
    "Draw final lens:"
   ]
  },
  {
   "cell_type": "code",
   "execution_count": null,
   "metadata": {},
   "outputs": [],
   "source": [
    "lens.draw(num_rays=5)"
   ]
  }
 ],
 "metadata": {
  "kernelspec": {
   "display_name": ".venv",
   "language": "python",
   "name": "python3"
  },
  "language_info": {
   "codemirror_mode": {
    "name": "ipython",
    "version": 3
   },
   "file_extension": ".py",
   "mimetype": "text/x-python",
   "name": "python",
   "nbconvert_exporter": "python",
   "pygments_lexer": "ipython3",
   "version": "3.11.1"
  }
 },
 "nbformat": 4,
 "nbformat_minor": 2
}
