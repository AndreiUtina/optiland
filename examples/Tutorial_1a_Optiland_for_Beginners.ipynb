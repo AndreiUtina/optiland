{
 "cells": [
  {
   "cell_type": "markdown",
   "metadata": {},
   "source": [
    "# Tutorial #1 - Optiland for Beginners\n",
    "\n",
    "### May 2024\n",
    "\n",
    "This tutorial describes the basics of Optiland. In particular, the following topics are covered:\n",
    "- Basic lens entry\n",
    "- Material definition and selection\n",
    "- Aperture, field and wavelength selection\n",
    "- Drawing a lens in 2D and 3D"
   ]
  },
  {
   "cell_type": "code",
   "execution_count": 1,
   "metadata": {},
   "outputs": [],
   "source": [
    "import numpy as np\n",
    "from optiland import optic"
   ]
  },
  {
   "cell_type": "markdown",
   "metadata": {},
   "source": [
    "## Overview\n",
    " This shows the full code to generate a singlet lens. In the next section, we will go into each part of this code in more detail."
   ]
  },
  {
   "cell_type": "code",
   "execution_count": 2,
   "metadata": {},
   "outputs": [
    {
     "data": {
      "image/png": "[encoded data removed]",
      "text/plain": [
       "<Figure size 1000x400 with 1 Axes>"
      ]
     },
     "metadata": {},
     "output_type": "display_data"
    }
   ],
   "source": [
    "singlet = optic.Optic()\n",
    "\n",
    "# define surfaces\n",
    "singlet.add_surface(index=0, radius=np.inf, thickness=np.inf)\n",
    "singlet.add_surface(index=1, thickness=7, radius=20, is_stop=True, material='N-SF11')\n",
    "singlet.add_surface(index=2, radius=np.inf, thickness=18)\n",
    "singlet.add_surface(index=3)\n",
    "\n",
    "# define aperture\n",
    "singlet.set_aperture(aperture_type='EPD', value=25)\n",
    "\n",
    "# define fields\n",
    "singlet.set_field_type(field_type='angle')\n",
    "singlet.add_field(y=0)\n",
    "\n",
    "# define wavelengths\n",
    "singlet.add_wavelength(value=0.5, is_primary=True)\n",
    "\n",
    "# update surfaces\n",
    "singlet.update_paraxial()\n",
    "\n",
    "# view\n",
    "singlet.draw()"
   ]
  },
  {
   "cell_type": "markdown",
   "metadata": {
    "vscode": {
     "languageId": "plaintext"
    }
   },
   "source": [
    "## Defining a lens, in detail\n",
    "\n",
    "### Create the optic\n",
    "\n",
    "In Optiland, lenses are instances of the \"Optic\" class. The process for defining a lens starts with creating an empty \"Optic\" object as follows:"
   ]
  },
  {
   "cell_type": "code",
   "execution_count": 3,
   "metadata": {},
   "outputs": [],
   "source": [
    "lens = optic.Optic()"
   ]
  },
  {
   "cell_type": "markdown",
   "metadata": {},
   "source": [
    "### Add the object surface\n",
    "\n",
    "We now want to populate the lens object with surfaces. Let's first add the object surface, which will be at infinity and will have a radius of infinity, i.e. it is a plane. We add the surface by calling the \"add_surface\" method. We must specify the index as 0 to indicate this is the first surface."
   ]
  },
  {
   "cell_type": "code",
   "execution_count": 4,
   "metadata": {},
   "outputs": [],
   "source": [
    "lens.add_surface(index=0, radius=np.inf, thickness=np.inf)"
   ]
  },
  {
   "cell_type": "markdown",
   "metadata": {},
   "source": [
    "### Add a lens\n",
    "\n",
    "Let's now add a singlet lens. The lens will be defined as follows:\n",
    "- Material: N-SF11\n",
    "- Thickness: 7 mm\n",
    "- Radius side 1: 20 mm\n",
    "- Radius side 2: infinity\n",
    "- Stop surface: 1\n",
    "\n",
    "Optiland defines lenses one surface at a time, so we define each side of the lens separately. The material always corresponds to the material after interaction with a surface (refraction or reflection). Likewise, the thickness corresponds to the thickness after the surface and it is positive for surfaces to the right. This also implies that we must define the distance from the second surface to the next surface, which we'll define as 18 mm.\n",
    "\n",
    "Note that we specify the indices of the two surfaces as 1 and 2, after we already specified the object plane with index 0. Also note that Optiland uses millimeters by default."
   ]
  },
  {
   "cell_type": "code",
   "execution_count": 5,
   "metadata": {},
   "outputs": [],
   "source": [
    "lens.add_surface(index=1, thickness=7, radius=20, is_stop=True, material='N-SF11')\n",
    "lens.add_surface(index=2, radius=np.inf, thickness=18)"
   ]
  },
  {
   "cell_type": "markdown",
   "metadata": {},
   "source": [
    "### Add image plane\n",
    "\n",
    "Lastly, let's add the image plane. By default, the radius is infinity, so we can exclude it. We also can omit thickness, as there are no surfaces beyond the image. We need only to define the index, which is 3."
   ]
  },
  {
   "cell_type": "code",
   "execution_count": 6,
   "metadata": {},
   "outputs": [],
   "source": [
    "lens.add_surface(index=3)"
   ]
  },
  {
   "cell_type": "markdown",
   "metadata": {},
   "source": [
    "### Define aperture\n",
    "\n",
    "Now, we can define the aperture of the system. Let's choose entrance pupil diameter (EPD) as the aperture type with a value of 25 mm.\n",
    "\n",
    "The options for aperture type are:\n",
    "- 'EPD' - entrance pupil diameter\n",
    "- 'imageFNO' - image-space F-number\n",
    "- 'objectNA' - object-space numerical aperture"
   ]
  },
  {
   "cell_type": "code",
   "execution_count": 7,
   "metadata": {},
   "outputs": [],
   "source": [
    "lens.set_aperture(aperture_type='EPD', value=25)"
   ]
  },
  {
   "cell_type": "markdown",
   "metadata": {},
   "source": [
    "### Define fields\n",
    "\n",
    "Let's add the fields of the lens. We'll keep it simple and add a single field of type \"angle\" with a value of 0.\n",
    "\n",
    "The options for field types are:\n",
    "- 'angle' - the angle of the field in object space\n",
    "- 'object_height' - the height of the object"
   ]
  },
  {
   "cell_type": "code",
   "execution_count": 8,
   "metadata": {},
   "outputs": [],
   "source": [
    "lens.set_field_type(field_type='angle')\n",
    "lens.add_field(y=0)"
   ]
  },
  {
   "cell_type": "markdown",
   "metadata": {},
   "source": [
    "### Define wavelengths\n",
    "\n",
    "Lastly, let's define the wavelengths of the system. We define a single wavelength at 0.5 µm."
   ]
  },
  {
   "cell_type": "code",
   "execution_count": 9,
   "metadata": {},
   "outputs": [],
   "source": [
    "lens.add_wavelength(value=0.5, is_primary=True)"
   ]
  },
  {
   "cell_type": "markdown",
   "metadata": {},
   "source": [
    "It is good practice to call \"update_paraxial\" to update the apertures of the system. Let's do so:"
   ]
  },
  {
   "cell_type": "code",
   "execution_count": 10,
   "metadata": {},
   "outputs": [],
   "source": [
    "lens.update_paraxial()"
   ]
  },
  {
   "cell_type": "markdown",
   "metadata": {},
   "source": [
    "### View the lens\n",
    "\n",
    "Let's view the lens in 2D. We can do this by calling the \"draw\" method."
   ]
  },
  {
   "cell_type": "code",
   "execution_count": 11,
   "metadata": {},
   "outputs": [
    {
     "data": {
      "image/png": "[encoded data removed]",
      "text/plain": [
       "<Figure size 1000x400 with 1 Axes>"
      ]
     },
     "metadata": {},
     "output_type": "display_data"
    }
   ],
   "source": [
    "lens.draw()"
   ]
  },
  {
   "cell_type": "markdown",
   "metadata": {},
   "source": [
    "Finally, we view the lens in 3D using the \"draw3D\" function. Note that this opens a new window."
   ]
  },
  {
   "cell_type": "code",
   "execution_count": 12,
   "metadata": {},
   "outputs": [],
   "source": [
    "lens.draw3D()"
   ]
  },
  {
   "cell_type": "code",
   "execution_count": null,
   "metadata": {},
   "outputs": [],
   "source": []
  }
 ],
 "metadata": {
  "kernelspec": {
   "display_name": ".venv",
   "language": "python",
   "name": "python3"
  },
  "language_info": {
   "codemirror_mode": {
    "name": "ipython",
    "version": 3
   },
   "file_extension": ".py",
   "mimetype": "text/x-python",
   "name": "python",
   "nbconvert_exporter": "python",
   "pygments_lexer": "ipython3",
   "version": "3.11.7"
  }
 },
 "nbformat": 4,
 "nbformat_minor": 2
}
