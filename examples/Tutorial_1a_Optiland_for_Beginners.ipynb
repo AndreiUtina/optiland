{
 "cells": [
  {
   "cell_type": "markdown",
   "metadata": {},
   "source": [
    "# Tutorial #1 - Optiland for Beginners\n",
    "\n",
    "### May 2024\n",
    "\n",
    "This tutorial describes the basics of Optiland. In particular, the following topics are covered:\n",
    "- Basic lens entry\n",
    "- Material definition and selection\n",
    "- Aperture, field and wavelength selection\n",
    "- Drawing a lens in 2D and 3D"
   ]
  },
  {
   "cell_type": "code",
   "execution_count": null,
   "metadata": {
    "vscode": {
     "languageId": "plaintext"
    }
   },
   "outputs": [],
   "source": []
  },
  {
   "cell_type": "code",
   "execution_count": null,
   "metadata": {},
   "outputs": [],
   "source": []
  }
 ],
 "metadata": {
  "kernelspec": {
   "display_name": ".venv",
   "language": "python",
   "name": "python3"
  },
  "language_info": {
   "name": "python",
   "version": "3.11.7"
  }
 },
 "nbformat": 4,
 "nbformat_minor": 2
}
