{
 "cells": [
  {
   "cell_type": "markdown",
   "metadata": {},
   "source": [
    "# Tutorial 7c - Freeform Surfaces\n",
    "\n",
    "### September 2024\n",
    "\n",
    "This tutorial demonstrates how freeform surfaces can be modeled in Optiland. Several freeform types are supported, including polynomial and Chebyshev surfaces.\n",
    "\n",
    "In this tutorial, we will design a unique singlet lens with the following properties:\n",
    "- rays from on-axis field point intersect the image plane at y=3mm\n",
    "- RMS spot size is minimized\n",
    "\n",
    "This is rather unique (and perhaps not all that useful), as rays from the on-axis field point in a standard lens are generally centered on the optical axis."
   ]
  },
  {
   "cell_type": "code",
   "execution_count": 1,
   "metadata": {},
   "outputs": [],
   "source": [
    "import numpy as np\n",
    "from optiland import optic, optimization, analysis"
   ]
  },
  {
   "cell_type": "markdown",
   "metadata": {},
   "source": [
    "### Preparation\n",
    "\n",
    "We start by defining a freeform lens class, which has a freeform as its first surface.\n",
    "\n",
    "The freeform surface is defined as:\n",
    "\n",
    "$z(x, y) = \\frac{r^2}{R \\cdot (1 + \\sqrt{(1 - (1 + k) \\cdot r^2 / R^2)})} + \\sum\\limits_{i}\\sum\\limits_{j}{C_{i, j} \\cdot x^i \\cdot y^j}$\n",
    "\n",
    "where\n",
    "- $x$ and $y$ are the local surface coordinates\n",
    "- $r^2 = x^2 + y^2$\n",
    "- $R$ is the radius of curvature\n",
    "- $k$ is the conic constant\n",
    "- $C_{i, j}$ are the polynomial coefficients"
   ]
  },
  {
   "cell_type": "code",
   "execution_count": 2,
   "metadata": {},
   "outputs": [],
   "source": [
    "class Freeform(optic.Optic):\n",
    "\n",
    "    def __init__(self):\n",
    "        super().__init__()\n",
    "\n",
    "        # add surfaces\n",
    "        self.add_surface(index=0, radius=np.inf, thickness=np.inf)\n",
    "\n",
    "        # ======== Add polynomial freeform here =====================================\n",
    "        self.add_surface(index=1, radius=100, thickness=5, surface_type='polynomial',  # <-- surface_type='polynomial'\n",
    "                         is_stop=True, material='SF11', coefficients=[])\n",
    "        # ===========================================================================\n",
    "\n",
    "        self.add_surface(index=2, thickness=100)\n",
    "        self.add_surface(index=3)\n",
    "\n",
    "        # add aperture\n",
    "        self.set_aperture(aperture_type='EPD', value=25)\n",
    "\n",
    "        # add field\n",
    "        self.set_field_type(field_type='angle')\n",
    "        self.add_field(y=0)\n",
    "\n",
    "        # add wavelength\n",
    "        self.add_wavelength(value=0.55, is_primary=True)"
   ]
  },
  {
   "cell_type": "markdown",
   "metadata": {},
   "source": [
    "We simply need to specify the surface type as 'polynomial' to make the first surface a freeform. Note that we did not pass coefficients to the surface, which implies all coefficients will be zero.\n",
    "\n",
    "Let's generate and view the starting point lens, which will simply be spherical, as the freeform coefficients are all zero."
   ]
  },
  {
   "cell_type": "code",
   "execution_count": null,
   "metadata": {},
   "outputs": [],
   "source": [
    "lens = Freeform()\n",
    "lens.draw(num_rays=5)"
   ]
  },
  {
   "cell_type": "markdown",
   "metadata": {},
   "source": [
    "We now define the optimization problem. Let's start with the two operands: 1) RMS spot size and 2) real ray y-intercept."
   ]
  },
  {
   "cell_type": "code",
   "execution_count": 4,
   "metadata": {},
   "outputs": [],
   "source": [
    "problem = optimization.OptimizationProblem()\n",
    "\n",
    "# RMS spot size operand\n",
    "input_data = {'optic': lens, 'surface_number': -1, 'Hx': 0, 'Hy': 0, 'wavelength': 0.55, 'num_rays': 5}\n",
    "problem.add_operand(operand_type='rms_spot_size', target=0, weight=1, input_data=input_data)\n",
    "\n",
    "# Real y-intercept operand\n",
    "input_data = {'optic': lens, 'surface_number': -1, 'Hx': 0, 'Hy': 0, 'Px': 0, 'Py': 0, 'wavelength': 0.55}\n",
    "problem.add_operand(operand_type='real_y_intercept', target=3, weight=1, input_data=input_data)  # <-- target=3"
   ]
  },
  {
   "cell_type": "markdown",
   "metadata": {},
   "source": [
    "We will include the first 9 polynomial coefficients of our surface as variables. We will not add bounds for the coefficients."
   ]
  },
  {
   "cell_type": "code",
   "execution_count": null,
   "metadata": {},
   "outputs": [],
   "source": [
    "for i in range(3):\n",
    "    for j in range(3):\n",
    "        problem.add_variable(lens, 'polynomial_coeff', surface_number=1, coeff_index=(i, j))\n",
    "\n",
    "problem.info()"
   ]
  },
  {
   "cell_type": "markdown",
   "metadata": {},
   "source": [
    "Let's optimize and observe the merit function improvement."
   ]
  },
  {
   "cell_type": "code",
   "execution_count": 6,
   "metadata": {},
   "outputs": [],
   "source": [
    "optimizer = optimization.OptimizerGeneric(problem)\n",
    "res = optimizer.optimize(tol=1e-9)"
   ]
  },
  {
   "cell_type": "code",
   "execution_count": null,
   "metadata": {},
   "outputs": [],
   "source": [
    "problem.info()"
   ]
  },
  {
   "cell_type": "markdown",
   "metadata": {},
   "source": [
    "Finally, we plot the lens and view a spot diagram."
   ]
  },
  {
   "cell_type": "code",
   "execution_count": null,
   "metadata": {},
   "outputs": [],
   "source": [
    "lens.draw(num_rays=5)"
   ]
  },
  {
   "cell_type": "code",
   "execution_count": null,
   "metadata": {},
   "outputs": [],
   "source": [
    "spot = analysis.SpotDiagram(lens)\n",
    "spot.view()"
   ]
  },
  {
   "cell_type": "markdown",
   "metadata": {},
   "source": [
    "We clearly see that the front surface of our lens appears to be tilted, which forces the on-axis rays to intercept the image plane near y=3mm."
   ]
  },
  {
   "cell_type": "markdown",
   "metadata": {},
   "source": [
    "### Conclusions:\n",
    "\n",
    "- We introduced freeform surfaces in Optiland.\n",
    "- We optimized a singlet lens for minimal spot size and for an off-axis real ray intercept point.\n",
    "- Additional freeform surfaces are available and can be found in the optiland.geometries module or the documentation."
   ]
  }
 ],
 "metadata": {
  "kernelspec": {
   "display_name": ".venv",
   "language": "python",
   "name": "python3"
  },
  "language_info": {
   "codemirror_mode": {
    "name": "ipython",
    "version": 3
   },
   "file_extension": ".py",
   "mimetype": "text/x-python",
   "name": "python",
   "nbconvert_exporter": "python",
   "pygments_lexer": "ipython3",
   "version": "3.11.1"
  }
 },
 "nbformat": 4,
 "nbformat_minor": 2
}
