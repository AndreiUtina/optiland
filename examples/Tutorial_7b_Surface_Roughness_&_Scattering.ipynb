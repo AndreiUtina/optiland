{
 "cells": [
  {
   "cell_type": "markdown",
   "metadata": {},
   "source": [
    "# Tutorial 7b - Surface Roughness & Scattering\n",
    "\n",
    "### August 2024\n",
    "\n",
    "This tutorial demonstrates how surface roughness and scattering can be configured on surfaces in Optiland. We will consider two surface scattering types:\n",
    "- Lambertian\n",
    "- Gaussian"
   ]
  },
  {
   "cell_type": "code",
   "execution_count": 1,
   "metadata": {},
   "outputs": [],
   "source": [
    "import numpy as np\n",
    "from optiland import optic, scatter"
   ]
  },
  {
   "cell_type": "markdown",
   "metadata": {},
   "source": [
    "### Conclusions:\n",
    "\n",
    "- pass"
   ]
  },
  {
   "cell_type": "code",
   "execution_count": null,
   "metadata": {},
   "outputs": [],
   "source": [
    "class Singlet(optic.Optic):\n",
    "\n",
    "    def __init__(self):\n",
    "        super().__init__()\n",
    "        bsdf = scatter.GaussianBSDF(sigma=0.1)\n",
    "\n",
    "        # add surfaces\n",
    "        self.add_surface(index=0, radius=np.inf, thickness=np.inf)\n",
    "        self.add_surface(index=1, thickness=7, radius=100, is_stop=True, material='N-SF11', bsdf=bsdf)\n",
    "        self.add_surface(index=2, thickness=21.48, bsdf=bsdf)\n",
    "        self.add_surface(index=3)\n",
    "\n",
    "        # add aperture\n",
    "        self.set_aperture(aperture_type='EPD', value=25.4)\n",
    "\n",
    "        # add field\n",
    "        self.set_field_type(field_type='angle')\n",
    "        self.add_field(y=0)\n",
    "        self.add_field(y=10)\n",
    "        self.add_field(y=14)\n",
    "\n",
    "        # add wavelength\n",
    "        self.add_wavelength(value=0.48613270)\n",
    "        self.add_wavelength(value=0.58756180, is_primary=True)\n",
    "        self.add_wavelength(value=0.65627250)\n",
    "\n",
    "        self.update_paraxial()\n",
    "        self.image_solve()"
   ]
  },
  {
   "cell_type": "code",
   "execution_count": null,
   "metadata": {},
   "outputs": [],
   "source": [
    "lens = Singlet()"
   ]
  },
  {
   "cell_type": "code",
   "execution_count": null,
   "metadata": {},
   "outputs": [],
   "source": [
    "# num = 10\n",
    "\n",
    "# x = np.zeros(num, dtype=float)\n",
    "# y = np.zeros(num, dtype=float)\n",
    "# z = np.zeros(num, dtype=float)\n",
    "\n",
    "# L = np.random.rand(num) * 0.0 + 0.\n",
    "# M = np.random.rand(num) * 0.0 + 0.\n",
    "# N = np.sqrt(1 - L**2 - M**2)\n",
    "\n",
    "# intensity = np.ones(num, dtype=float)\n",
    "# wavelength = np.ones(num) * 0.5\n",
    "\n",
    "# nx = np.zeros(num, dtype=float)\n",
    "# ny = np.zeros(num, dtype=float)\n",
    "# nz = np.ones(num, dtype=float)\n",
    "\n",
    "# r = rays.RealRays(x, y, z, L, M, N, intensity, wavelength)\n",
    "\n",
    "# r_new = lens.surface_group.surfaces[2].bsdf.scatter(r, nx, ny, nz)"
   ]
  },
  {
   "cell_type": "code",
   "execution_count": null,
   "metadata": {},
   "outputs": [],
   "source": [
    "lens.draw()"
   ]
  },
  {
   "cell_type": "code",
   "execution_count": null,
   "metadata": {},
   "outputs": [],
   "source": [
    "# lens.trace(Hx=0, Hy=1, wavelength=0.58756180, distribution='hexapolar', num_rays=1000)"
   ]
  },
  {
   "cell_type": "code",
   "execution_count": null,
   "metadata": {},
   "outputs": [],
   "source": []
  }
 ],
 "metadata": {
  "kernelspec": {
   "display_name": ".venv",
   "language": "python",
   "name": "python3"
  },
  "language_info": {
   "codemirror_mode": {
    "name": "ipython",
    "version": 3
   },
   "file_extension": ".py",
   "mimetype": "text/x-python",
   "name": "python",
   "nbconvert_exporter": "python",
   "pygments_lexer": "ipython3",
   "version": "3.11.1"
  }
 },
 "nbformat": 4,
 "nbformat_minor": 2
}
